{
 "metadata": {
  "name": "Fun with Cython et al"
 },
 "nbformat": 3,
 "nbformat_minor": 0,
 "worksheets": [
  {
   "cells": [
    {
     "cell_type": "heading",
     "level": 1,
     "metadata": {},
     "source": "Test in Cython"
    },
    {
     "cell_type": "heading",
     "level": 2,
     "metadata": {},
     "source": "Test of multidimensional Memoryview indexing"
    },
    {
     "cell_type": "code",
     "collapsed": false,
     "input": "%load_ext cythonmagic",
     "language": "python",
     "metadata": {},
     "outputs": [],
     "prompt_number": 6
    },
    {
     "cell_type": "code",
     "collapsed": false,
     "input": "%%cython\nimport numpy as np\n\ny = np.arange(35*4).reshape(4,5,7)\nnarr = np.arange(27, dtype=np.dtype(\"i\")).reshape((3, 3, 3))\nindx1 = np.array([[2,0],[1,3]], dtype=np.dtype(\"i\"))\nindx2 = np.array([[1,2],[4,0]], dtype=np.dtype(\"i\"))\ncdef void test_func( long[:,:,::1] y, int[:,:,::1] narr, int[:,::1] indx1, int[:,::1] indx2):\n    cdef:\n        long[:,::1] res\n    res = np.zeros((2,2), dtype=np.long)\n    for i in range(2):\n        for j in range(2):\n            res[i,j] = y[indx1[i,j],indx2[i,j],0]\n    print ('y')\n    print np.array(y)\n    print('simple indexing')\n    print np.array(y[0][0])\n    print np.array(y[0,0])\n    print('indexing via indices')\n    print np.array(y[indx1[0,0],indx2[0,0],0])\n    print('multidimensional indexing')\n    print np.asarray(res)\n\ntest_func(y,narr,indx1,indx2)\n    ",
     "language": "python",
     "metadata": {},
     "outputs": [],
     "prompt_number": 135
    },
    {
     "cell_type": "code",
     "collapsed": false,
     "input": "%%cython\nimport numpy as np\n\na = 3\nb = np.array([[1,2],[4,0]], dtype=np.dtype(\"i\"))\ncdef test_int_sum(int a, int[:,::1] b):\n    cdef int[:,::1] a_curr\n    a_curr = np.ones((2,2), dtype=np.dtype(\"i\"))\n    #a_curr = a_curr * a\n    for i in range(2):\n        for j in range(2):\n            a_curr[i,j] =  np.array(a + b[i,j])\n    print np.array(a_curr)\ntest_int_sum(a,b)",
     "language": "python",
     "metadata": {},
     "outputs": [
      {
       "output_type": "stream",
       "stream": "stdout",
       "text": "[[4 5]\n [7 3]]\n"
      }
     ],
     "prompt_number": 144
    },
    {
     "cell_type": "heading",
     "level": 2,
     "metadata": {},
     "source": "Playing with types in numpy\n"
    },
    {
     "cell_type": "code",
     "collapsed": false,
     "input": "%%cython\nimport numpy as np\na = np.arange(5, dtype=np.float32)\nb = np.zeros((5,), dtype=np.float32)\nc = np.ones((5,4), dtype=np.float32)\ncdef void test_a(float [::1] a):\n    pass\ncdef void test_b(float [::1] b):\n    pass\ncdef void test_c(float [:,::1] c):\n    pass\ncdef void test_d():\n    cdef float[::1] d\n    d = np.zeros((5,), dtype=np.float32)\n    print np.array(d)\n    print np.array(d).dtype\n    pass\ntest_a(a)\ntest_b(b)\ntest_c(c)\ntest_d()",
     "language": "python",
     "metadata": {},
     "outputs": [
      {
       "output_type": "stream",
       "stream": "stdout",
       "text": "[ 0.  0.  0.  0.  0.]\nfloat32\n"
      }
     ],
     "prompt_number": 117
    },
    {
     "cell_type": "code",
     "collapsed": false,
     "input": "print np.arange(5).dtype\nprint np.arange(5,0.1).dtype",
     "language": "python",
     "metadata": {},
     "outputs": [
      {
       "output_type": "stream",
       "stream": "stdout",
       "text": "int64\nfloat64\n"
      }
     ],
     "prompt_number": 110
    },
    {
     "cell_type": "code",
     "collapsed": false,
     "input": "print np.zeros((5)).dtype\nprint np.zeros((5),dtype=np.double).dtype",
     "language": "python",
     "metadata": {},
     "outputs": [
      {
       "output_type": "stream",
       "stream": "stdout",
       "text": "float64\nfloat64\n"
      }
     ],
     "prompt_number": 145
    },
    {
     "cell_type": "heading",
     "level": 2,
     "metadata": {},
     "source": "Test nested generators"
    },
    {
     "cell_type": "code",
     "collapsed": false,
     "input": "%%cython\ndef up_gen():\n    for raw in down_gen():\n        yield raw\n    \ndef down_gen():\n    for i in range(10):\n        yield i\n    \nfor raw in down_gen():\n    print raw",
     "language": "python",
     "metadata": {},
     "outputs": [
      {
       "output_type": "stream",
       "stream": "stdout",
       "text": "0\n1\n2\n3\n4\n5\n6\n7\n8\n9\n"
      }
     ],
     "prompt_number": 155
    },
    {
     "cell_type": "markdown",
     "metadata": {},
     "source": "However, the following does not work"
    },
    {
     "cell_type": "code",
     "collapsed": false,
     "input": "%%cython\ncpdef up_gen():\n    for raw in down_gen():\n        yield raw\n    \ncpdef down_gen():\n    for i in range(10):\n        yield i\n    \nfor raw in down_gen():\n    print raw",
     "language": "python",
     "metadata": {},
     "outputs": [
      {
       "output_type": "stream",
       "stream": "stderr",
       "text": "\nError compiling Cython file:\n------------------------------------------------------------\n...\ncpdef up_gen():\n    for raw in down_gen():\n        yield raw\n       ^\n------------------------------------------------------------\n\n/home/tim/.config/ipython/cython/_cython_magic_60e3419324f5c9c2ea8fbf6336ee729a.pyx:3:8: 'yield' not supported here\n\nError compiling Cython file:\n------------------------------------------------------------\n...\n    for raw in down_gen():\n        yield raw\n    \ncpdef down_gen():\n    for i in range(10):\n        yield i\n       ^\n------------------------------------------------------------\n\n/home/tim/.config/ipython/cython/_cython_magic_60e3419324f5c9c2ea8fbf6336ee729a.pyx:7:8: 'yield' not supported here\n"
      }
     ],
     "prompt_number": 156
    },
    {
     "cell_type": "code",
     "collapsed": false,
     "input": "",
     "language": "python",
     "metadata": {},
     "outputs": []
    }
   ],
   "metadata": {}
  }
 ]
}