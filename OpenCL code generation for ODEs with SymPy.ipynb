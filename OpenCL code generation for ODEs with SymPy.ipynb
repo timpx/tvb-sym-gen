{
 "metadata": {
  "name": "OpenCL code generation for ODEs with SymPy"
 },
 "nbformat": 3,
 "nbformat_minor": 0,
 "worksheets": [
  {
   "cells": [
    {
     "cell_type": "heading",
     "level": 1,
     "metadata": {},
     "source": [
      "Generating OpenCL for integrating differential equation systems"
     ]
    },
    {
     "cell_type": "code",
     "collapsed": false,
     "input": [
      "%pylab inline"
     ],
     "language": "python",
     "metadata": {},
     "outputs": [
      {
       "output_type": "stream",
       "stream": "stdout",
       "text": [
        "\n",
        "Welcome to pylab, a matplotlib-based Python environment [backend: module://IPython.zmq.pylab.backend_inline].\n",
        "For more information, type 'help(pylab)'.\n"
       ]
      }
     ],
     "prompt_number": 18
    },
    {
     "cell_type": "code",
     "collapsed": false,
     "input": [
      "from sympy import *\n",
      "from sympy.tensor import IndexedBase, Idx"
     ],
     "language": "python",
     "metadata": {},
     "outputs": [],
     "prompt_number": 95
    },
    {
     "cell_type": "code",
     "collapsed": false,
     "input": [
      "symbols('dt')==symbols('dt')"
     ],
     "language": "python",
     "metadata": {},
     "outputs": [
      {
       "output_type": "pyout",
       "prompt_number": 106,
       "text": [
        "True"
       ]
      }
     ],
     "prompt_number": 106
    },
    {
     "cell_type": "markdown",
     "metadata": {},
     "source": [
      "Start with a simple oscillator model"
     ]
    },
    {
     "cell_type": "code",
     "collapsed": false,
     "input": [
      "x, y, dt, tau, a = symbols('x y dt tau a')\n",
      "\n",
      "ddt = {\n",
      "    x: tau*(x - x**3/3 + y),\n",
      "    y: (a - x)/tau\n",
      "}"
     ],
     "language": "python",
     "metadata": {},
     "outputs": [],
     "prompt_number": 96
    },
    {
     "cell_type": "markdown",
     "metadata": {},
     "source": [
      "Form the \"half\" step, and then the full step for the Heun method"
     ]
    },
    {
     "cell_type": "code",
     "collapsed": false,
     "input": [
      "half = {u: u + dt*du for u, du in ddt.iteritems()}\n",
      "heun = [u + (du + du.subs(half))*dt/2 for u, du in ddt.iteritems()]"
     ],
     "language": "python",
     "metadata": {},
     "outputs": [],
     "prompt_number": 97
    },
    {
     "cell_type": "markdown",
     "metadata": {},
     "source": [
      "Then, ask sympy to perform common subexpression elimination, or `cse`, so that we don't compute the same thing multiple times"
     ]
    },
    {
     "cell_type": "code",
     "collapsed": false,
     "input": [
      "aux, exs = cse(heun, optimizations='basic', order='none')\n",
      "for l, r in aux:\n",
      "    print l, '<-', r\n",
      "for u, ex in zip(ddt.keys(), exs):\n",
      "    print u, '<-', ex"
     ],
     "language": "python",
     "metadata": {},
     "outputs": [
      {
       "output_type": "stream",
       "stream": "stdout",
       "text": [
        "x0 <- 1/tau\n",
        "x1 <- dt*x0*(a - x)\n",
        "x2 <- 3*x\n",
        "x3 <- x**3\n",
        "x4 <- dt*tau\n",
        "x5 <- x4*(3*x1 + x2 - x3 + 3*y)\n",
        "x6 <- 27*x5\n",
        "x7 <- x2 + x5\n",
        "x8 <- 81*y\n",
        "x9 <- 81*x\n",
        "x <- dt*(162*x + x4*(-27*x3 + x8 + x9) + x4*(81*x1 + x6 - x7**3 + x8 + x9) + x6)/162 + x\n",
        "y <- dt*(-dt*x0*(-3*a + x7) + 6*x1 + 6*y)/6 + y\n"
       ]
      }
     ],
     "prompt_number": 98
    },
    {
     "cell_type": "markdown",
     "metadata": {},
     "source": [
      "Then we can generate a looping kernel for OpenCL like this"
     ]
    },
    {
     "cell_type": "code",
     "collapsed": false,
     "input": [
      "template = '''\n",
      "__kernel void integrate(__global float *X, __global float *DX, float dt, float a, float tau)\n",
      "{{\n",
      "    int step;\n",
      "    {decl}\n",
      "\n",
      "    for (step=0; step<{nstep}; step++)\n",
      "    {{\n",
      "        {loop}\n",
      "    }}\n",
      "}}\n",
      "'''\n",
      "\n",
      "decl = 'float x, y, ' + ', '.join([ccode(au) for au, _ in aux]) + ';'\n",
      "nstep = str(100)\n",
      "loop = ('; '.join(['%s=X[%d]' % (ccode(u), i) for i, u in enumerate(ddt.keys())]) + ';\\n\\n'\n",
      "    + ''.join(['%s = %s;\\n' % (l, ccode(r)) for l, r in aux]) + '\\n'\n",
      "    + ''.join(['DX[%d] = %s;\\n' % (i, ccode(ex)) for i, ex in enumerate(exs)])\n",
      ")\n",
      "\n",
      "kernel = template.format(\n",
      "    decl=decl,\n",
      "    nstep=nstep,\n",
      "    loop=loop\n",
      ")\n",
      "\n",
      "print kernel"
     ],
     "language": "python",
     "metadata": {},
     "outputs": [
      {
       "output_type": "stream",
       "stream": "stdout",
       "text": [
        "\n",
        "__kernel void integrate(__global float *X, __global float *DX, float dt, float a, float tau)\n",
        "{\n",
        "    int step;\n",
        "    float x, y, x0, x1, x2, x3, x4, x5, x6, x7, x8, x9;\n",
        "\n",
        "    for (step=0; step<100; step++)\n",
        "    {\n",
        "        x=X[0]; y=X[1];\n",
        "\n",
        "x0 = 1.0/tau;\n",
        "x1 = dt*x0*(a - x);\n",
        "x2 = 3*x;\n",
        "x3 = pow(x, 3);\n",
        "x4 = dt*tau;\n",
        "x5 = x4*(3*x1 + x2 - x3 + 3*y);\n",
        "x6 = 27*x5;\n",
        "x7 = x2 + x5;\n",
        "x8 = 81*y;\n",
        "x9 = 81*x;\n",
        "\n",
        "DX[0] = (1.0L/162.0L)*dt*(162*x + x4*(-27*x3 + x8 + x9) + x4*(81*x1 + x6 - pow(x7, 3) + x8 + x9) + x6) + x;\n",
        "DX[1] = (1.0L/6.0L)*dt*(-dt*x0*(-3*a + x7) + 6*x1 + 6*y) + y;\n",
        "\n",
        "    }\n",
        "}\n",
        "\n"
       ]
      }
     ],
     "prompt_number": 99
    },
    {
     "cell_type": "markdown",
     "metadata": {},
     "source": [
      "Of course this is only for one node, no delays or noise or connectivity. Also can do this just with strings:"
     ]
    },
    {
     "cell_type": "code",
     "collapsed": false,
     "input": [
      "system = '''\n",
      "dx = tau*(x - x**3/3 + y)\n",
      "dy = (a - x)/tau\n",
      "'''\n",
      "\n",
      "ddt2 = {}\n",
      "for lhs, rhs in [line.split('=') for line in system.split('\\n') if line]:\n",
      "    svar = parse_expr(lhs.replace('d', ''))\n",
      "    vf = parse_expr(rhs)\n",
      "    ddt2[svar] = vf\n",
      "    \n",
      "ddt2"
     ],
     "language": "python",
     "metadata": {},
     "outputs": [
      {
       "output_type": "pyout",
       "prompt_number": 100,
       "text": [
        "{x: tau*(-x**3/3 + x + y), y: (a - x)/tau}"
       ]
      }
     ],
     "prompt_number": 100
    },
    {
     "cell_type": "markdown",
     "metadata": {},
     "source": [
      "Then we can have just a translating function"
     ]
    },
    {
     "cell_type": "code",
     "collapsed": false,
     "input": [
      "def translate(system, nstep=100):\n",
      "    \"\"\"\n",
      "    Input `system` is either a string with lines containing dx = x - x**3/3 + y\n",
      "    or a dictionary like {'x': 'x - x**3/3 + y'}.\n",
      "\n",
      "    \"\"\"\n",
      "    \n",
      "    # parse system definition\n",
      "    if type(system) in (str, unicode):\n",
      "        ddt = {}\n",
      "        for lhs, rhs in [line.split('=') for line in system.split('\\n') if line]:\n",
      "            svar = parse_expr(lhs.replace('d', ''))\n",
      "            vf = parse_expr(rhs)\n",
      "            ddt[svar] = vf\n",
      "    elif isinstance(system, dict):\n",
      "        ddt = {symbols(k): parse_expr(v) for k, v in system.iteritems()}\n",
      "    else:\n",
      "        raise NotImplementedError(\"don't know what to do with %r\" % (system,))\n",
      "    \n",
      "    # create Heun discretization\n",
      "    half = {u: u + dt*du for u, du in ddt.iteritems()}\n",
      "    heun = [u + (du + du.subs(half))*dt/2 for u, du in half.iteritems()]\n",
      "    \n",
      "    # move common parts to aux variables\n",
      "    aux, exs = cse(heun, optimizations='basic', order='none')\n",
      "    \n",
      "    # compile to kernel source\n",
      "    decl = 'float ' + ', '.join(map(ccode, ddt.keys())) + ', '  + ', '.join([ccode(au) for au, _ in aux]) + ';'\n",
      "    nstep = str(nstep)\n",
      "    loop = ('; '.join(['%s=X[%d]' % (ccode(u), i) for i, u in enumerate(ddt.keys())]) + ';\\n\\n'\n",
      "        + ''.join(['%s = %s;\\n' % (l, ccode(r)) for l, r in aux]) + '\\n'\n",
      "        + ''.join(['DX[%d] = %s;\\n' % (i, ccode(ex)) for i, ex in enumerate(exs)])\n",
      "    )\n",
      "\n",
      "    return template.format(\n",
      "        decl=decl,\n",
      "        nstep=nstep,\n",
      "        loop=loop\n",
      "    )\n"
     ],
     "language": "python",
     "metadata": {},
     "outputs": [],
     "prompt_number": 103
    },
    {
     "cell_type": "markdown",
     "metadata": {},
     "source": [
      "et voila"
     ]
    },
    {
     "cell_type": "code",
     "collapsed": false,
     "input": [
      "print translate('''\n",
      "dx = tau*(x - x**3/3 + y)\n",
      "dy = (a - x + b*y + c*y**2)/tau\n",
      "dz = x + y + z + x*y*z\n",
      "''')"
     ],
     "language": "python",
     "metadata": {},
     "outputs": [
      {
       "output_type": "stream",
       "stream": "stdout",
       "text": [
        "\n",
        "__kernel void integrate(__global float *X, __global float *DX, float dt, float a, float tau)\n",
        "{\n",
        "    int step;\n",
        "    float x, z, y, x0, x1, x2, x3, x4, x5, x6, x7, x8, x9, x10, x11, x12, x13, x14;\n",
        "\n",
        "    for (step=0; step<100; step++)\n",
        "    {\n",
        "        x=X[0]; z=X[1]; y=X[2];\n",
        "\n",
        "x0 = dt/tau;\n",
        "x1 = x0*(a + b*y + c*pow(y, 2) - x);\n",
        "x2 = 81*y;\n",
        "x3 = 81*x;\n",
        "x4 = 3*x1;\n",
        "x5 = 3*x;\n",
        "x6 = 3*y;\n",
        "x7 = pow(x, 3);\n",
        "x8 = dt*tau;\n",
        "x9 = x8*(x4 + x5 + x6 - x7);\n",
        "x10 = 27*x9;\n",
        "x11 = x5 + x9;\n",
        "x12 = dt*(x*y*z + x + y + z);\n",
        "x13 = x1 + y;\n",
        "x14 = (1.0L/6.0L)*dt;\n",
        "\n",
        "DX[0] = (1.0L/162.0L)*dt*(162*x + x10 + x8*(x2 + x3 - 27*x7) + x8*(81*x1 + x10 - pow(x11, 3) + x2 + x3)) + x;\n",
        "DX[1] = x14*(dt*(x11*x13*(x12 + z) + x11 + 3*x12 + x4 + x6 + 3*z) + 6*x12 + 6*z) + z;\n",
        "DX[2] = x14*(x0*(3*a + 3*b*x13 + 3*c*pow(x13, 2) - x5 - x9) + 6*x1 + 6*y) + y;\n",
        "\n",
        "    }\n",
        "}\n",
        "\n"
       ]
      }
     ],
     "prompt_number": 104
    },
    {
     "cell_type": "markdown",
     "metadata": {},
     "source": [
      "Hm, it automatically changed the order of `x, z, y` but that's because `ddt` is a `dict` which doesn't keep track of order."
     ]
    },
    {
     "cell_type": "markdown",
     "metadata": {},
     "source": [
      "`Integrator` can inspect the `Model` to find out state variable names, parameter names, and equations. \n",
      "\n",
      "This is sufficient to write a general numexpr evaluator for the dfun (which should be `Model.dfun`), and as done here, sufficient to generate an OpenCL kernel specific to this integration scheme, if so desired.\n",
      "\n",
      "However, perhaps the set up is right, if we just take the type(integrator) to indicate which scheme to use. The integrator could be responsible for either evaluating with numexpr the model as would be done now, or providing the correct discretization scheme. After, the simulator is responsible for applying the kernel, etc. \n",
      "\n",
      "OK Not bad."
     ]
    },
    {
     "cell_type": "code",
     "collapsed": false,
     "input": [],
     "language": "python",
     "metadata": {},
     "outputs": []
    }
   ],
   "metadata": {}
  }
 ]
}